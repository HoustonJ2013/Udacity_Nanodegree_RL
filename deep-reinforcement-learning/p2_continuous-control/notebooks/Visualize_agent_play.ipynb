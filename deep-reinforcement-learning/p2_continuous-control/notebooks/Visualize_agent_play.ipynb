{
 "cells": [
  {
   "cell_type": "code",
   "execution_count": 1,
   "metadata": {},
   "outputs": [],
   "source": [
    "import gym\n",
    "import sys\n",
    "import torch\n",
    "sys.path.append(\"../\")\n",
    "%load_ext autoreload\n",
    "%autoreload 2"
   ]
  },
  {
   "cell_type": "code",
   "execution_count": 3,
   "metadata": {},
   "outputs": [
    {
     "name": "stderr",
     "output_type": "stream",
     "text": [
      "INFO:unityagents:\n",
      "'Academy' started successfully!\n",
      "Unity Academy name: Academy\n",
      "        Number of Brains: 1\n",
      "        Number of External Brains : 1\n",
      "        Lesson number : 0\n",
      "        Reset Parameters :\n",
      "\t\tgoal_speed -> 1.0\n",
      "\t\tgoal_size -> 5.0\n",
      "Unity brain name: ReacherBrain\n",
      "        Number of Visual Observations (per agent): 0\n",
      "        Vector Observation space type: continuous\n",
      "        Vector Observation space size (per agent): 33\n",
      "        Number of stacked Vector Observation: 1\n",
      "        Vector Action space type: continuous\n",
      "        Vector Action space size (per agent): 4\n",
      "        Vector Action descriptions: , , , \n"
     ]
    },
    {
     "name": "stdout",
     "output_type": "stream",
     "text": [
      "Actor weights initialized the same between local and target\n",
      "Critic weights initialized the same between local and target\n",
      "ReplayBuffer is instantiated\n"
     ]
    },
    {
     "data": {
      "text/plain": [
       "IncompatibleKeys(missing_keys=[], unexpected_keys=[])"
      ]
     },
     "execution_count": 3,
     "metadata": {},
     "output_type": "execute_result"
    }
   ],
   "source": [
    "## Trained agent\n",
    "from agents.Unity_Env import UnityEnv_Reacher\n",
    "from agents.ddpg_agent import Agent as DDPG_Agent\n",
    "\n",
    "env = UnityEnv_Reacher(env_file=\"../Reacher_Linux/Reacher.x86_64\")\n",
    "state_size = env.state_size\n",
    "action_size = env.action_size\n",
    "\n",
    "model_param = {\"actor_fc_units\": 128, \n",
    "                \"actor_fc_units2\": 64, \n",
    "                \"critic_fc_units1\": 64, \n",
    "                \"critic_fc_units2\": 128, \n",
    "                \"critic_fc_units3\": 64}\n",
    "\n",
    "agent = DDPG_Agent(state_size=state_size, action_size=action_size, model_param=model_param)\n",
    "agent.actor_local.load_state_dict(torch.load(\"../models/actor_Reacher_unity_v1_episodes_7203_score_31.1149993045255542019_06_28_03_13_49_ddpg_reacher_model_2_lr_1e-3_retart7200_checkpoint.pth\"))"
   ]
  },
  {
   "cell_type": "code",
   "execution_count": 17,
   "metadata": {},
   "outputs": [
    {
     "name": "stderr",
     "output_type": "stream",
     "text": [
      "/home/jingbo/anaconda3/envs/rlearning/lib/python3.6/site-packages/torch/nn/functional.py:1374: UserWarning: nn.functional.tanh is deprecated. Use torch.tanh instead.\n",
      "  warnings.warn(\"nn.functional.tanh is deprecated. Use torch.tanh instead.\")\n"
     ]
    }
   ],
   "source": [
    "## Train Agent Play\n",
    "game_over = False\n",
    "max_length = 500\n",
    "total_reward = 0\n",
    "step = 0\n",
    "state = env.reset(train_mode=False)\n",
    "while (not game_over) and step <= max_length:\n",
    "    action = agent.act(state, add_noise=False) \n",
    "    state, reward, game_over, _ = env.step(action)\n",
    "    total_reward += reward\n",
    "    step += 1"
   ]
  },
  {
   "cell_type": "code",
   "execution_count": 12,
   "metadata": {},
   "outputs": [
    {
     "data": {
      "text/plain": [
       "((1, 4), array([[ 0.48042294, -0.5492903 ,  0.316508  , -0.20486102]],\n",
       "       dtype=float32))"
      ]
     },
     "execution_count": 12,
     "metadata": {},
     "output_type": "execute_result"
    }
   ],
   "source": [
    "action.shape, action"
   ]
  },
  {
   "cell_type": "code",
   "execution_count": 16,
   "metadata": {},
   "outputs": [],
   "source": [
    "## Random Agent Play\n",
    "import numpy as np\n",
    "game_over = False\n",
    "max_length = 500\n",
    "total_reward = 0\n",
    "step = 0\n",
    "state = env.reset(train_mode=False)\n",
    "while (not game_over) and step <= max_length:\n",
    "    action = np.random.uniform(low=-1, high=1, size=(1, action_size))\n",
    "    state, reward, game_over, _ = env.step(action)\n",
    "    total_reward += reward\n",
    "    step += 1"
   ]
  },
  {
   "cell_type": "code",
   "execution_count": null,
   "metadata": {},
   "outputs": [],
   "source": []
  }
 ],
 "metadata": {
  "kernelspec": {
   "display_name": "Python 3",
   "language": "python",
   "name": "python3"
  },
  "language_info": {
   "codemirror_mode": {
    "name": "ipython",
    "version": 3
   },
   "file_extension": ".py",
   "mimetype": "text/x-python",
   "name": "python",
   "nbconvert_exporter": "python",
   "pygments_lexer": "ipython3",
   "version": "3.6.8"
  }
 },
 "nbformat": 4,
 "nbformat_minor": 2
}
