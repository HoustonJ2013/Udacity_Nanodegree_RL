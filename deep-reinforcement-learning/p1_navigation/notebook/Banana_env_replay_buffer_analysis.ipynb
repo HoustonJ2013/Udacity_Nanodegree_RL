{
 "cells": [
  {
   "cell_type": "code",
   "execution_count": 1,
   "metadata": {},
   "outputs": [],
   "source": [
    "import pickle \n",
    "import numpy as np\n",
    "file = open(\"../models/Banana_unity_replay_buffer\", \"rb\")\n",
    "replay_buffer = pickle.load(file)"
   ]
  },
  {
   "cell_type": "code",
   "execution_count": 2,
   "metadata": {},
   "outputs": [],
   "source": [
    "states = []\n",
    "for replay_ in replay_buffer:\n",
    "    states.append(replay_[\"state\"])\n",
    "states = np.array(states)"
   ]
  },
  {
   "cell_type": "code",
   "execution_count": 15,
   "metadata": {},
   "outputs": [],
   "source": [
    "states_min = np.min(states, axis=0)\n",
    "states_max = np.max(states, axis=0)"
   ]
  },
  {
   "cell_type": "code",
   "execution_count": 17,
   "metadata": {},
   "outputs": [
    {
     "data": {
      "text/plain": [
       "(array([  0.        ,   0.        ,   0.        ,   0.        ,\n",
       "          0.        ,   0.        ,   0.        ,   0.        ,\n",
       "          0.        ,   0.        ,   0.        ,   0.        ,\n",
       "          0.        ,   0.        ,   0.        ,   0.        ,\n",
       "          0.        ,   0.        ,   0.        ,   0.        ,\n",
       "          0.        ,   0.        ,   0.        ,   0.        ,\n",
       "          0.        ,   0.        ,   0.        ,   0.        ,\n",
       "          0.        ,   0.        ,   0.        ,   0.        ,\n",
       "          0.        ,   0.        ,   0.        ,  -3.96307206,\n",
       "        -12.48741436]),\n",
       " array([ 1.        ,  1.        ,  1.        ,  1.        ,  0.99999911,\n",
       "         1.        ,  1.        ,  1.        ,  1.        ,  0.99994981,\n",
       "         1.        ,  1.        ,  1.        ,  1.        ,  0.99999344,\n",
       "         1.        ,  1.        ,  1.        ,  1.        ,  0.99996817,\n",
       "         1.        ,  1.        ,  1.        ,  1.        ,  0.99998647,\n",
       "         1.        ,  1.        ,  1.        ,  1.        ,  0.99995595,\n",
       "         1.        ,  1.        ,  1.        ,  1.        ,  0.99998701,\n",
       "         4.01329041, 12.48741436]))"
      ]
     },
     "execution_count": 17,
     "metadata": {},
     "output_type": "execute_result"
    }
   ],
   "source": [
    "states_min, states_max"
   ]
  },
  {
   "cell_type": "code",
   "execution_count": 18,
   "metadata": {},
   "outputs": [],
   "source": [
    "## Create a robust scalar to normalize the last two dimension of the state space\n",
    "from sklearn.preprocessing import MinMaxScaler\n",
    "scaler_1 = MinMaxScaler()\n",
    "states_scaled = scaler_1.fit_transform(states)\n"
   ]
  },
  {
   "cell_type": "code",
   "execution_count": null,
   "metadata": {},
   "outputs": [],
   "source": []
  }
 ],
 "metadata": {
  "kernelspec": {
   "display_name": "Python 3",
   "language": "python",
   "name": "python3"
  },
  "language_info": {
   "codemirror_mode": {
    "name": "ipython",
    "version": 3
   },
   "file_extension": ".py",
   "mimetype": "text/x-python",
   "name": "python",
   "nbconvert_exporter": "python",
   "pygments_lexer": "ipython3",
   "version": "3.6.8"
  }
 },
 "nbformat": 4,
 "nbformat_minor": 2
}
