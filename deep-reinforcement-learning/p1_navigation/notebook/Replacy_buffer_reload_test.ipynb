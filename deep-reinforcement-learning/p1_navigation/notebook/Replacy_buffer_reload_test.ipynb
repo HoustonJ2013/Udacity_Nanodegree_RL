{
 "cells": [
  {
   "cell_type": "code",
   "execution_count": 1,
   "metadata": {},
   "outputs": [],
   "source": [
    "import pickle \n",
    "import numpy as np\n",
    "file = open(\"../models/Banana_unity_replay_buffer\", \"rb\")\n",
    "replay_buffer = pickle.load(file)"
   ]
  },
  {
   "cell_type": "code",
   "execution_count": 2,
   "metadata": {},
   "outputs": [],
   "source": [
    "states = []\n",
    "for replay_ in replay_buffer:\n",
    "    states.append(replay_[\"state\"])\n",
    "states = np.array(states)"
   ]
  },
  {
   "cell_type": "code",
   "execution_count": 19,
   "metadata": {},
   "outputs": [
    {
     "data": {
      "text/plain": [
       "OrderedDict([('state',\n",
       "              array([1.        , 0.        , 0.        , 0.        , 0.43657523,\n",
       "                     1.        , 0.        , 0.        , 0.        , 0.19398789,\n",
       "                     1.        , 0.        , 0.        , 0.        , 0.47860974,\n",
       "                     0.        , 0.        , 1.        , 0.        , 0.52109712,\n",
       "                     0.        , 0.        , 1.        , 0.        , 0.38285938,\n",
       "                     1.        , 0.        , 0.        , 0.        , 0.10405888,\n",
       "                     1.        , 0.        , 0.        , 0.        , 0.37148568,\n",
       "                     0.5       , 0.5       ])),\n",
       "             ('action', 0),\n",
       "             ('reward', 0.0),\n",
       "             ('next_state',\n",
       "              array([1.        , 0.        , 0.        , 0.        , 0.6804291 ,\n",
       "                     1.        , 0.        , 0.        , 0.        , 0.18347044,\n",
       "                     0.        , 1.        , 0.        , 0.        , 0.7095198 ,\n",
       "                     0.        , 0.        , 1.        , 0.        , 0.51045132,\n",
       "                     0.        , 0.        , 1.        , 0.        , 0.38446835,\n",
       "                     1.        , 0.        , 0.        , 0.        , 0.09022847,\n",
       "                     1.        , 0.        , 0.        , 0.        , 0.36714622,\n",
       "                     0.5       , 0.81241978])),\n",
       "             ('done', False)])"
      ]
     },
     "execution_count": 19,
     "metadata": {},
     "output_type": "execute_result"
    }
   ],
   "source": [
    "replay_buffer[0]"
   ]
  },
  {
   "cell_type": "code",
   "execution_count": 29,
   "metadata": {},
   "outputs": [
    {
     "data": {
      "text/plain": [
       "90000"
      ]
     },
     "execution_count": 29,
     "metadata": {},
     "output_type": "execute_result"
    }
   ],
   "source": [
    "len(replay_buffer)"
   ]
  },
  {
   "cell_type": "code",
   "execution_count": 40,
   "metadata": {},
   "outputs": [],
   "source": [
    "import sys\n",
    "sys.path.append(\"../\")\n",
    "from dqn.dqn_agent import ReplayBuffer\n",
    "replay_buffer_new = ReplayBuffer(1, 100000, 128, seed=0, device=\"cpu\")"
   ]
  },
  {
   "cell_type": "code",
   "execution_count": 41,
   "metadata": {},
   "outputs": [],
   "source": [
    "from collections import namedtuple\n",
    "experience = namedtuple(\"Experience\", field_names=[\"state\", \"action\", \"reward\", \"next_state\", \"done\"])"
   ]
  },
  {
   "cell_type": "code",
   "execution_count": 42,
   "metadata": {},
   "outputs": [
    {
     "data": {
      "text/plain": [
       "Experience(state=array([1.        , 0.        , 0.        , 0.        , 0.43657523,\n",
       "       1.        , 0.        , 0.        , 0.        , 0.19398789,\n",
       "       1.        , 0.        , 0.        , 0.        , 0.47860974,\n",
       "       0.        , 0.        , 1.        , 0.        , 0.52109712,\n",
       "       0.        , 0.        , 1.        , 0.        , 0.38285938,\n",
       "       1.        , 0.        , 0.        , 0.        , 0.10405888,\n",
       "       1.        , 0.        , 0.        , 0.        , 0.37148568,\n",
       "       0.5       , 0.5       ]), action=0, reward=0.0, next_state=array([1.        , 0.        , 0.        , 0.        , 0.6804291 ,\n",
       "       1.        , 0.        , 0.        , 0.        , 0.18347044,\n",
       "       0.        , 1.        , 0.        , 0.        , 0.7095198 ,\n",
       "       0.        , 0.        , 1.        , 0.        , 0.51045132,\n",
       "       0.        , 0.        , 1.        , 0.        , 0.38446835,\n",
       "       1.        , 0.        , 0.        , 0.        , 0.09022847,\n",
       "       1.        , 0.        , 0.        , 0.        , 0.36714622,\n",
       "       0.5       , 0.81241978]), done=False)"
      ]
     },
     "execution_count": 42,
     "metadata": {},
     "output_type": "execute_result"
    }
   ],
   "source": [
    "experience(replay_buffer[0][\"state\"], replay_buffer[0][\"action\"], \n",
    "           replay_buffer[0][\"reward\"], replay_buffer[0][\"next_state\"], \n",
    "           replay_buffer[0][\"done\"] )"
   ]
  },
  {
   "cell_type": "code",
   "execution_count": 46,
   "metadata": {},
   "outputs": [],
   "source": [
    "def load_memory(replay_buffer_obj, loaded_pickle_memory):\n",
    "    experience = namedtuple(\"Experience\", field_names=[\"state\", \"action\", \"reward\", \"next_state\", \"done\"])\n",
    "    for item in loaded_pickle_memory:\n",
    "        item_tf = experience(item[\"state\"], item[\"action\"], item[\"reward\"], item[\"next_state\"], item[\"done\"])\n",
    "        replay_buffer_obj.memory.append(item_tf)\n",
    "    return replay_buffer_obj"
   ]
  },
  {
   "cell_type": "code",
   "execution_count": 48,
   "metadata": {},
   "outputs": [],
   "source": [
    "replay_buffer_tf = load_memory(replay_buffer_new, replay_buffer)"
   ]
  },
  {
   "cell_type": "code",
   "execution_count": 49,
   "metadata": {},
   "outputs": [
    {
     "data": {
      "text/plain": [
       "(100000, 100000)"
      ]
     },
     "execution_count": 49,
     "metadata": {},
     "output_type": "execute_result"
    }
   ],
   "source": [
    "len(replay_buffer_new.memory), len(replay_buffer_tf.memory)"
   ]
  },
  {
   "cell_type": "code",
   "execution_count": 28,
   "metadata": {},
   "outputs": [
    {
     "data": {
      "text/plain": [
       "90000"
      ]
     },
     "execution_count": 28,
     "metadata": {},
     "output_type": "execute_result"
    }
   ],
   "source": [
    "len(replay_buffer)"
   ]
  },
  {
   "cell_type": "code",
   "execution_count": null,
   "metadata": {},
   "outputs": [],
   "source": []
  }
 ],
 "metadata": {
  "kernelspec": {
   "display_name": "Python 3",
   "language": "python",
   "name": "python3"
  },
  "language_info": {
   "codemirror_mode": {
    "name": "ipython",
    "version": 3
   },
   "file_extension": ".py",
   "mimetype": "text/x-python",
   "name": "python",
   "nbconvert_exporter": "python",
   "pygments_lexer": "ipython3",
   "version": "3.6.8"
  }
 },
 "nbformat": 4,
 "nbformat_minor": 2
}
