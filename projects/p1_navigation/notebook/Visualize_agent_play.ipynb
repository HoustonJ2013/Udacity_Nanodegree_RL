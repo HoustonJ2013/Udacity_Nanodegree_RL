{
 "cells": [
  {
   "cell_type": "code",
   "execution_count": 1,
   "metadata": {},
   "outputs": [],
   "source": [
    "import gym\n",
    "import sys\n",
    "import torch\n",
    "sys.path.append(\"../\")\n",
    "from dqn.opencv_avi import record_policy\n",
    "%load_ext autoreload\n",
    "%autoreload 2"
   ]
  },
  {
   "cell_type": "markdown",
   "metadata": {},
   "source": [
    "## LunarLander-V2"
   ]
  },
  {
   "cell_type": "code",
   "execution_count": 38,
   "metadata": {},
   "outputs": [
    {
     "name": "stderr",
     "output_type": "stream",
     "text": [
      "/home/jingbo/anaconda3/envs/rlearning/lib/python3.6/site-packages/gym/envs/registration.py:14: PkgResourcesDeprecationWarning: Parameters to load are deprecated.  Call .resolve and .require separately.\n",
      "  result = entry_point.load(False)\n"
     ]
    }
   ],
   "source": [
    "## Random Policy\n",
    "env = gym.make(\"LunarLander-v2\")\n",
    "video_file = \"../videos/LunarLander-v2_random.avi\"\n",
    "record_policy(env, video_file=video_file, Policy=\"Random\", fps=5, frame_skip=10)"
   ]
  },
  {
   "cell_type": "code",
   "execution_count": 24,
   "metadata": {},
   "outputs": [
    {
     "name": "stdout",
     "output_type": "stream",
     "text": [
      "ReplayBuffer is instantiated\n"
     ]
    },
    {
     "data": {
      "text/plain": [
       "IncompatibleKeys(missing_keys=[], unexpected_keys=[])"
      ]
     },
     "execution_count": 24,
     "metadata": {},
     "output_type": "execute_result"
    }
   ],
   "source": [
    "## Trained Policy\n",
    "from dqn.dqn_agent import Agent\n",
    "state_size = env.observation_space.shape[0]\n",
    "action_size = env.action_space.n\n",
    "agent_1 = Agent(state_size=state_size, action_size=action_size)\n",
    "agent_1.qnetwork_local.load_state_dict(torch.load(\"../models/LunarLander-v2_linearmodel2.pth\"))"
   ]
  },
  {
   "cell_type": "code",
   "execution_count": 37,
   "metadata": {},
   "outputs": [],
   "source": [
    "env = gym.make(\"LunarLander-v2\")\n",
    "video_file = \"../videos/LunarLander-v2_trained.avi\"\n",
    "record_policy(env, video_file=video_file, Policy=agent_1, fps=5, frame_skip=10)"
   ]
  },
  {
   "cell_type": "markdown",
   "metadata": {},
   "source": [
    "# Banana Unity"
   ]
  },
  {
   "cell_type": "code",
   "execution_count": 2,
   "metadata": {},
   "outputs": [
    {
     "name": "stderr",
     "output_type": "stream",
     "text": [
      "INFO:unityagents:\n",
      "'Academy' started successfully!\n",
      "Unity Academy name: Academy\n",
      "        Number of Brains: 1\n",
      "        Number of External Brains : 1\n",
      "        Lesson number : 0\n",
      "        Reset Parameters :\n",
      "\t\t\n",
      "Unity brain name: BananaBrain\n",
      "        Number of Visual Observations (per agent): 0\n",
      "        Vector Observation space type: continuous\n",
      "        Vector Observation space size (per agent): 37\n",
      "        Number of stacked Vector Observation: 1\n",
      "        Vector Action space type: discrete\n",
      "        Vector Action space size (per agent): 4\n",
      "        Vector Action descriptions: , , , \n"
     ]
    },
    {
     "name": "stdout",
     "output_type": "stream",
     "text": [
      "ReplayBuffer is instantiated\n"
     ]
    },
    {
     "data": {
      "text/plain": [
       "IncompatibleKeys(missing_keys=[], unexpected_keys=[])"
      ]
     },
     "execution_count": 2,
     "metadata": {},
     "output_type": "execute_result"
    }
   ],
   "source": [
    "## Trained agent\n",
    "from dqn.dqn_agent import UnityEnv_simple\n",
    "from dqn.dqn_agent import Agent\n",
    "env = UnityEnv_simple(env_file=\"../Banana_Linux/Banana.x86_64\")\n",
    "state_size = env.state_size\n",
    "action_size = env.action_size\n",
    "agent_2 = Agent(state_size=state_size, action_size=action_size)\n",
    "agent_2.qnetwork_local.load_state_dict(torch.load(\"../models/Banana_unity_episodes_2000_score_15.022019_05_19_20_17_50_banana_per_20_checkpoint.pth\"))"
   ]
  },
  {
   "cell_type": "code",
   "execution_count": 3,
   "metadata": {},
   "outputs": [],
   "source": [
    "game_over = False\n",
    "max_length = 300\n",
    "total_reward = 0\n",
    "step = 0\n",
    "state = env.reset(train_mode=False)\n",
    "while (not game_over) and step <= max_length:\n",
    "    action = agent_2.act(state) \n",
    "    state, reward, game_over, _ = env.step(action)\n",
    "    total_reward += reward\n",
    "    step += 1"
   ]
  },
  {
   "cell_type": "code",
   "execution_count": 4,
   "metadata": {},
   "outputs": [],
   "source": [
    "env.close()"
   ]
  },
  {
   "cell_type": "code",
   "execution_count": null,
   "metadata": {},
   "outputs": [],
   "source": []
  }
 ],
 "metadata": {
  "kernelspec": {
   "display_name": "Python 3",
   "language": "python",
   "name": "python3"
  },
  "language_info": {
   "codemirror_mode": {
    "name": "ipython",
    "version": 3
   },
   "file_extension": ".py",
   "mimetype": "text/x-python",
   "name": "python",
   "nbconvert_exporter": "python",
   "pygments_lexer": "ipython3",
   "version": "3.6.8"
  }
 },
 "nbformat": 4,
 "nbformat_minor": 2
}
