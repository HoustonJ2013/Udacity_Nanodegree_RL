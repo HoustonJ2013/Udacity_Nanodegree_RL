{
 "cells": [
  {
   "cell_type": "code",
   "execution_count": 1,
   "metadata": {},
   "outputs": [],
   "source": [
    "import pandas as pd"
   ]
  },
  {
   "cell_type": "code",
   "execution_count": 5,
   "metadata": {},
   "outputs": [
    {
     "name": "stderr",
     "output_type": "stream",
     "text": [
      "/home/jingbo/anaconda3/envs/rlearning/lib/python3.6/site-packages/ipykernel_launcher.py:1: FutureWarning: read_table is deprecated, use read_csv instead, passing sep='\\t'.\n",
      "  \"\"\"Entry point for launching an IPython kernel.\n"
     ]
    }
   ],
   "source": [
    "df = pd.read_table(\"./Reacher_Solution_Scores\", header=None)"
   ]
  },
  {
   "cell_type": "code",
   "execution_count": 10,
   "metadata": {},
   "outputs": [],
   "source": [
    "df = df.rename(index=str, columns={0: \"Episodes\", 1: \"Score average 100 epsisodes\"})"
   ]
  },
  {
   "cell_type": "code",
   "execution_count": 11,
   "metadata": {},
   "outputs": [
    {
     "data": {
      "text/html": [
       "<div>\n",
       "<style scoped>\n",
       "    .dataframe tbody tr th:only-of-type {\n",
       "        vertical-align: middle;\n",
       "    }\n",
       "\n",
       "    .dataframe tbody tr th {\n",
       "        vertical-align: top;\n",
       "    }\n",
       "\n",
       "    .dataframe thead th {\n",
       "        text-align: right;\n",
       "    }\n",
       "</style>\n",
       "<table border=\"1\" class=\"dataframe\">\n",
       "  <thead>\n",
       "    <tr style=\"text-align: right;\">\n",
       "      <th></th>\n",
       "      <th>Episodes</th>\n",
       "      <th>Score average 100 epsisodes</th>\n",
       "      <th>2</th>\n",
       "    </tr>\n",
       "  </thead>\n",
       "  <tbody>\n",
       "    <tr>\n",
       "      <th>0</th>\n",
       "      <td>Episode 1</td>\n",
       "      <td>Average Score: 0.00</td>\n",
       "      <td>Game length 1001 Critic Running Loss: nan Act...</td>\n",
       "    </tr>\n",
       "    <tr>\n",
       "      <th>1</th>\n",
       "      <td>Episode 2</td>\n",
       "      <td>Average Score: 0.18</td>\n",
       "      <td>Game length 1001 Critic Running Loss: 0.00000...</td>\n",
       "    </tr>\n",
       "    <tr>\n",
       "      <th>2</th>\n",
       "      <td>Episode 3</td>\n",
       "      <td>Average Score: 0.19</td>\n",
       "      <td>Game length 1001 Critic Running Loss: 0.00000...</td>\n",
       "    </tr>\n",
       "  </tbody>\n",
       "</table>\n",
       "</div>"
      ],
      "text/plain": [
       "    Episodes Score average 100 epsisodes  \\\n",
       "0  Episode 1       Average Score: 0.00     \n",
       "1  Episode 2       Average Score: 0.18     \n",
       "2  Episode 3       Average Score: 0.19     \n",
       "\n",
       "                                                   2  \n",
       "0   Game length 1001 Critic Running Loss: nan Act...  \n",
       "1   Game length 1001 Critic Running Loss: 0.00000...  \n",
       "2   Game length 1001 Critic Running Loss: 0.00000...  "
      ]
     },
     "execution_count": 11,
     "metadata": {},
     "output_type": "execute_result"
    }
   ],
   "source": [
    "df.head(3)"
   ]
  },
  {
   "cell_type": "code",
   "execution_count": 13,
   "metadata": {},
   "outputs": [],
   "source": [
    "df[\"Episodes\"] = df[\"Episodes\"].apply(lambda x: int(x.split()[1]))"
   ]
  },
  {
   "cell_type": "code",
   "execution_count": null,
   "metadata": {},
   "outputs": [],
   "source": [
    "df[\"Score average 100 epsisodes\"] = df[\"Score average 100 epsisodes\"].apply(lambda x: int(x.split()[1]))"
   ]
  },
  {
   "cell_type": "code",
   "execution_count": 14,
   "metadata": {},
   "outputs": [
    {
     "data": {
      "text/html": [
       "<div>\n",
       "<style scoped>\n",
       "    .dataframe tbody tr th:only-of-type {\n",
       "        vertical-align: middle;\n",
       "    }\n",
       "\n",
       "    .dataframe tbody tr th {\n",
       "        vertical-align: top;\n",
       "    }\n",
       "\n",
       "    .dataframe thead th {\n",
       "        text-align: right;\n",
       "    }\n",
       "</style>\n",
       "<table border=\"1\" class=\"dataframe\">\n",
       "  <thead>\n",
       "    <tr style=\"text-align: right;\">\n",
       "      <th></th>\n",
       "      <th>Episodes</th>\n",
       "      <th>Score average 100 epsisodes</th>\n",
       "      <th>2</th>\n",
       "    </tr>\n",
       "  </thead>\n",
       "  <tbody>\n",
       "    <tr>\n",
       "      <th>0</th>\n",
       "      <td>1</td>\n",
       "      <td>Average Score: 0.00</td>\n",
       "      <td>Game length 1001 Critic Running Loss: nan Act...</td>\n",
       "    </tr>\n",
       "    <tr>\n",
       "      <th>1</th>\n",
       "      <td>2</td>\n",
       "      <td>Average Score: 0.18</td>\n",
       "      <td>Game length 1001 Critic Running Loss: 0.00000...</td>\n",
       "    </tr>\n",
       "    <tr>\n",
       "      <th>2</th>\n",
       "      <td>3</td>\n",
       "      <td>Average Score: 0.19</td>\n",
       "      <td>Game length 1001 Critic Running Loss: 0.00000...</td>\n",
       "    </tr>\n",
       "  </tbody>\n",
       "</table>\n",
       "</div>"
      ],
      "text/plain": [
       "   Episodes Score average 100 epsisodes  \\\n",
       "0         1       Average Score: 0.00     \n",
       "1         2       Average Score: 0.18     \n",
       "2         3       Average Score: 0.19     \n",
       "\n",
       "                                                   2  \n",
       "0   Game length 1001 Critic Running Loss: nan Act...  \n",
       "1   Game length 1001 Critic Running Loss: 0.00000...  \n",
       "2   Game length 1001 Critic Running Loss: 0.00000...  "
      ]
     },
     "execution_count": 14,
     "metadata": {},
     "output_type": "execute_result"
    }
   ],
   "source": [
    "df.head(3)"
   ]
  },
  {
   "cell_type": "code",
   "execution_count": null,
   "metadata": {},
   "outputs": [],
   "source": []
  }
 ],
 "metadata": {
  "kernelspec": {
   "display_name": "Python 3",
   "language": "python",
   "name": "python3"
  },
  "language_info": {
   "codemirror_mode": {
    "name": "ipython",
    "version": 3
   },
   "file_extension": ".py",
   "mimetype": "text/x-python",
   "name": "python",
   "nbconvert_exporter": "python",
   "pygments_lexer": "ipython3",
   "version": "3.6.8"
  }
 },
 "nbformat": 4,
 "nbformat_minor": 2
}
