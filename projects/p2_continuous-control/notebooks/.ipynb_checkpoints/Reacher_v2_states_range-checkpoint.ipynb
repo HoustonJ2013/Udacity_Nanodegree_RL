{
 "cells": [
  {
   "cell_type": "code",
   "execution_count": 1,
   "metadata": {},
   "outputs": [],
   "source": [
    "import pickle \n",
    "import numpy as np\n",
    "file = open(\"../models/Reacher_unity_v22019_05_31_22_09_36_replay_buffer_\", \"rb\")\n",
    "replay_buffer = pickle.load(file)"
   ]
  },
  {
   "cell_type": "code",
   "execution_count": 2,
   "metadata": {},
   "outputs": [],
   "source": [
    "states = []\n",
    "for replay_ in replay_buffer:\n",
    "    states.append(replay_[\"state\"])\n",
    "states = np.array(states)"
   ]
  },
  {
   "cell_type": "code",
   "execution_count": 3,
   "metadata": {},
   "outputs": [],
   "source": [
    "states_min = np.min(states, axis=0)\n",
    "states_max = np.max(states, axis=0)"
   ]
  },
  {
   "cell_type": "code",
   "execution_count": 5,
   "metadata": {},
   "outputs": [
    {
     "data": {
      "text/plain": [
       "(array([ 6.8804741e-02, -2.3956299e-03,  5.5851460e-02,  3.4987926e-05,\n",
       "         3.2268780e-01,  3.0149138e-01,  6.2316656e-05,  4.7165442e-01,\n",
       "        -1.6571712e-01,  4.3608886e-01, -2.2288391e-02, -6.3338172e-01,\n",
       "        -1.5496320e-01,  6.9010630e-02, -4.0378570e-04,  2.2664972e-02,\n",
       "         1.6948581e-04,  3.1365490e-01,  2.7040899e-01,  1.8903613e-04,\n",
       "         3.6941817e-01,  3.0970442e-01,  1.9735742e-01, -5.1529634e-01,\n",
       "        -9.4495934e-01, -8.1024128e-01,  0.0000000e+00,  0.0000000e+00,\n",
       "         0.0000000e+00,  5.0000000e-01,  1.0000000e+00,  5.0000000e-01,\n",
       "         3.5055876e-03], dtype=float32),\n",
       " array([0.91823196, 1.00659496, 0.93947697, 1.        , 0.70524065,\n",
       "        0.68508412, 0.99992865, 0.89920135, 1.04621482, 1.08592506,\n",
       "        1.01340362, 1.60186777, 1.10527053, 0.93000772, 1.00130415,\n",
       "        0.98681434, 1.        , 0.74189815, 0.70832124, 0.99939176,\n",
       "        0.82674217, 0.68753052, 0.9566706 , 1.61738245, 1.9297987 ,\n",
       "        1.72738192, 1.        , 0.        , 1.        , 0.5       ,\n",
       "        1.        , 0.5       , 0.99979496]))"
      ]
     },
     "execution_count": 5,
     "metadata": {},
     "output_type": "execute_result"
    }
   ],
   "source": [
    "states_min, states_max"
   ]
  },
  {
   "cell_type": "code",
   "execution_count": null,
   "metadata": {},
   "outputs": [],
   "source": []
  }
 ],
 "metadata": {
  "kernelspec": {
   "display_name": "Python 3",
   "language": "python",
   "name": "python3"
  },
  "language_info": {
   "codemirror_mode": {
    "name": "ipython",
    "version": 3
   },
   "file_extension": ".py",
   "mimetype": "text/x-python",
   "name": "python",
   "nbconvert_exporter": "python",
   "pygments_lexer": "ipython3",
   "version": "3.6.8"
  }
 },
 "nbformat": 4,
 "nbformat_minor": 2
}
